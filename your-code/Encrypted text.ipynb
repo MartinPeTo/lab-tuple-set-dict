{
 "cells": [
  {
   "cell_type": "markdown",
   "metadata": {},
   "source": [
    "![Image of frequencies](https://crypto.interactive-maths.com/uploads/1/1/3/4/11345755/1192197_orig.jpg)"
   ]
  },
  {
   "cell_type": "code",
   "execution_count": 24,
   "metadata": {},
   "outputs": [],
   "source": [
    "text = '''GFS WMY OG LGDVS MF SFNKYHOSU ESLLMRS, PC WS BFGW POL DMFRQMRS, PL OG CPFU M UPCCSKSFO HDMPFOSXO GC OIS LMES DMFRQMRS\n",
    "DGFR SFGQRI OG CPDD GFS LISSO GK LG, MFU OISF WS NGQFO OIS GNNQKKSFNSL GC SMNI DSOOSK. WS NMDD OIS EGLO CKSJQSFODY\n",
    "GNNQKKPFR DSOOSK OIS 'CPKLO', OIS FSXO EGLO GNNQKKPFR DSOOSK OIS 'LSNGFU' OIS CGDDGWPFR EGLO GNNQKKPFR DSOOSK OIS\n",
    "'OIPKU', MFU LG GF, QFOPD WS MNNGQFO CGK MDD OIS UPCCSKSFO DSOOSKL PF OIS HDMPFOSXO LMEHDS. OISF WS DGGB MO OIS NPHISK\n",
    "OSXO WS WMFO OG LGDVS MFU WS MDLG NDMLLPCY POL LYEAGDL. WS CPFU OIS EGLO GNNQKKPFR LYEAGD MFU NIMFRS PO OG OIS CGKE GC\n",
    "IS 'CPKLO' DSOOSK GC OIS HDMPFOSXO LMEHDS, OIS FSXO EGLO NGEEGF LYEAGD PL NIMFRSU OG OIS CGKE GC OIS 'LSNGFU' DSOOSK, MFU\n",
    "OIS CGDDGWPFR EGLO NGEEGF LYEAGD PL NIMFRSU OG OIS CGKE GC OIS 'OIPKU' DSOOSK, MFU LG GF, QFOPD WS MNNGQFO CGK MDD LYEAGDL\n",
    "GC OIS NKYHOGRKME WS WMFO OG LGDVS.'''"
   ]
  },
  {
   "cell_type": "code",
   "execution_count": 5,
   "metadata": {},
   "outputs": [
    {
     "data": {
      "text/plain": [
       "5"
      ]
     },
     "execution_count": 5,
     "metadata": {},
     "output_type": "execute_result"
    }
   ],
   "source": [
    "text.count('A')"
   ]
  },
  {
   "cell_type": "code",
   "execution_count": 14,
   "metadata": {},
   "outputs": [
    {
     "name": "stdout",
     "output_type": "stream",
     "text": [
      "{'G': 67, 'F': 51, 'S': 88, 'W': 16, 'M': 35, 'Y': 10, 'O': 84, 'L': 39, 'D': 42, 'V': 3, 'N': 29, 'K': 35, 'H': 8, 'U': 17, 'E': 23, 'R': 17, 'P': 30, 'C': 26, 'B': 2, 'Q': 14, 'X': 6, 'I': 33, 'J': 1, 'A': 5}\n"
     ]
    }
   ],
   "source": [
    "letter_dictionary={char:text.count(char) for char in text if char.isalpha()}\n",
    "print(letter_dictionary)"
   ]
  },
  {
   "cell_type": "code",
   "execution_count": 97,
   "metadata": {},
   "outputs": [],
   "source": [
    "final_text=text.replace('S','e')"
   ]
  },
  {
   "cell_type": "code",
   "execution_count": 98,
   "metadata": {},
   "outputs": [],
   "source": [
    "final_text=final_text.replace('O','t')"
   ]
  },
  {
   "cell_type": "code",
   "execution_count": 99,
   "metadata": {},
   "outputs": [],
   "source": [
    "final_text=final_text.replace('G','o')"
   ]
  },
  {
   "cell_type": "code",
   "execution_count": 100,
   "metadata": {},
   "outputs": [
    {
     "name": "stdout",
     "output_type": "stream",
     "text": [
      "one WMY to LoDVe Mn enNKYHteU EeLLMRe, PC We BnoW PtL DMnRQMRe, PL to CPnU M UPCCeKent HDMPnteXt oC tIe LMEe DMnRQMRe\n",
      "DonR enoQRI to CPDD one LIeet oK Lo, MnU tIen We NoQnt tIe oNNQKKenNeL oC eMNI DetteK. We NMDD tIe EoLt CKeJQentDY\n",
      "oNNQKKPnR DetteK tIe 'CPKLt', tIe neXt EoLt oNNQKKPnR DetteK tIe 'LeNonU' tIe CoDDoWPnR EoLt oNNQKKPnR DetteK tIe\n",
      "'tIPKU', MnU Lo on, QntPD We MNNoQnt CoK MDD tIe UPCCeKent DetteKL Pn tIe HDMPnteXt LMEHDe. tIen We DooB Mt tIe NPHIeK\n",
      "teXt We WMnt to LoDVe MnU We MDLo NDMLLPCY PtL LYEAoDL. We CPnU tIe EoLt oNNQKKPnR LYEAoD MnU NIMnRe Pt to tIe CoKE oC\n",
      "Ie 'CPKLt' DetteK oC tIe HDMPnteXt LMEHDe, tIe neXt EoLt NoEEon LYEAoD PL NIMnReU to tIe CoKE oC tIe 'LeNonU' DetteK, MnU\n",
      "tIe CoDDoWPnR EoLt NoEEon LYEAoD PL NIMnReU to tIe CoKE oC tIe 'tIPKU' DetteK, MnU Lo on, QntPD We MNNoQnt CoK MDD LYEAoDL\n",
      "oC tIe NKYHtoRKME We WMnt to LoDVe.\n"
     ]
    }
   ],
   "source": [
    "final_text=final_text.replace('F','n')\n",
    "print(final_text)"
   ]
  },
  {
   "cell_type": "code",
   "execution_count": 101,
   "metadata": {},
   "outputs": [
    {
     "name": "stdout",
     "output_type": "stream",
     "text": [
      "one WMY to LoDVe Mn enNKYHteU EeLLMRe, PC We BnoW PtL DMnRQMRe, PL to CPnU M UPCCeKent HDMPnteXt oC tIe LMEe DMnRQMRe\n",
      "DonR enoQRI to CPDD one LIeet oK Lo, MnU tIen We NoQnt tIe oNNQKKenNeL oC eMNI DetteK. We NMDD tIe EoLt CKeJQentDY\n",
      "oNNQKKPnR DetteK tIe 'CPKLt', tIe neXt EoLt oNNQKKPnR DetteK tIe 'LeNonU' tIe CoDDoWPnR EoLt oNNQKKPnR DetteK tIe\n",
      "'tIPKU', MnU Lo on, QntPD We MNNoQnt CoK MDD tIe UPCCeKent DetteKL Pn tIe HDMPnteXt LMEHDe. tIen We DooB Mt tIe NPHIeK\n",
      "teXt We WMnt to LoDVe MnU We MDLo NDMLLPCY PtL LYEAoDL. We CPnU tIe EoLt oNNQKKPnR LYEAoD MnU NIMnRe Pt to tIe CoKE oC\n",
      "Ie 'CPKLt' DetteK oC tIe HDMPnteXt LMEHDe, tIe neXt EoLt NoEEon LYEAoD PL NIMnReU to tIe CoKE oC tIe 'LeNonU' DetteK, MnU\n",
      "tIe CoDDoWPnR EoLt NoEEon LYEAoD PL NIMnReU to tIe CoKE oC tIe 'tIPKU' DetteK, MnU Lo on, QntPD We MNNoQnt CoK MDD LYEAoDL\n",
      "oC tIe NKYHtoRKME We WMnt to LoDVe.\n"
     ]
    }
   ],
   "source": [
    "final_text=final_text.replace('S','e')\n",
    "print(final_text)"
   ]
  },
  {
   "cell_type": "code",
   "execution_count": 102,
   "metadata": {},
   "outputs": [
    {
     "name": "stdout",
     "output_type": "stream",
     "text": [
      "one wMY to LoDVe Mn enNKYHteU EeLLMRe, PC we Bnow PtL DMnRQMRe, PL to CPnU M UPCCeKent HDMPnteXt oC tIe LMEe DMnRQMRe\n",
      "DonR enoQRI to CPDD one LIeet oK Lo, MnU tIen we NoQnt tIe oNNQKKenNeL oC eMNI DetteK. we NMDD tIe EoLt CKeJQentDY\n",
      "oNNQKKPnR DetteK tIe 'CPKLt', tIe neXt EoLt oNNQKKPnR DetteK tIe 'LeNonU' tIe CoDDowPnR EoLt oNNQKKPnR DetteK tIe\n",
      "'tIPKU', MnU Lo on, QntPD we MNNoQnt CoK MDD tIe UPCCeKent DetteKL Pn tIe HDMPnteXt LMEHDe. tIen we DooB Mt tIe NPHIeK\n",
      "teXt we wMnt to LoDVe MnU we MDLo NDMLLPCY PtL LYEAoDL. we CPnU tIe EoLt oNNQKKPnR LYEAoD MnU NIMnRe Pt to tIe CoKE oC\n",
      "Ie 'CPKLt' DetteK oC tIe HDMPnteXt LMEHDe, tIe neXt EoLt NoEEon LYEAoD PL NIMnReU to tIe CoKE oC tIe 'LeNonU' DetteK, MnU\n",
      "tIe CoDDowPnR EoLt NoEEon LYEAoD PL NIMnReU to tIe CoKE oC tIe 'tIPKU' DetteK, MnU Lo on, QntPD we MNNoQnt CoK MDD LYEAoDL\n",
      "oC tIe NKYHtoRKME we wMnt to LoDVe.\n"
     ]
    }
   ],
   "source": [
    "final_text=final_text.replace('W','w')\n",
    "print(final_text)"
   ]
  },
  {
   "cell_type": "code",
   "execution_count": 103,
   "metadata": {},
   "outputs": [
    {
     "name": "stdout",
     "output_type": "stream",
     "text": [
      "one wMy to LoDVe Mn enNKyHteU EeLLMRe, PC we Bnow PtL DMnRQMRe, PL to CPnU M UPCCeKent HDMPnteXt oC tIe LMEe DMnRQMRe\n",
      "DonR enoQRI to CPDD one LIeet oK Lo, MnU tIen we NoQnt tIe oNNQKKenNeL oC eMNI DetteK. we NMDD tIe EoLt CKeJQentDy\n",
      "oNNQKKPnR DetteK tIe 'CPKLt', tIe neXt EoLt oNNQKKPnR DetteK tIe 'LeNonU' tIe CoDDowPnR EoLt oNNQKKPnR DetteK tIe\n",
      "'tIPKU', MnU Lo on, QntPD we MNNoQnt CoK MDD tIe UPCCeKent DetteKL Pn tIe HDMPnteXt LMEHDe. tIen we DooB Mt tIe NPHIeK\n",
      "teXt we wMnt to LoDVe MnU we MDLo NDMLLPCy PtL LyEAoDL. we CPnU tIe EoLt oNNQKKPnR LyEAoD MnU NIMnRe Pt to tIe CoKE oC\n",
      "Ie 'CPKLt' DetteK oC tIe HDMPnteXt LMEHDe, tIe neXt EoLt NoEEon LyEAoD PL NIMnReU to tIe CoKE oC tIe 'LeNonU' DetteK, MnU\n",
      "tIe CoDDowPnR EoLt NoEEon LyEAoD PL NIMnReU to tIe CoKE oC tIe 'tIPKU' DetteK, MnU Lo on, QntPD we MNNoQnt CoK MDD LyEAoDL\n",
      "oC tIe NKyHtoRKME we wMnt to LoDVe.\n"
     ]
    }
   ],
   "source": [
    "final_text=final_text.replace('Y','y')\n",
    "print(final_text)"
   ]
  },
  {
   "cell_type": "code",
   "execution_count": 104,
   "metadata": {},
   "outputs": [
    {
     "name": "stdout",
     "output_type": "stream",
     "text": [
      "one way to LoDVe an enNKyHteU EeLLaRe, PC we Bnow PtL DanRQaRe, PL to CPnU a UPCCeKent HDaPnteXt oC tIe LaEe DanRQaRe\n",
      "DonR enoQRI to CPDD one LIeet oK Lo, anU tIen we NoQnt tIe oNNQKKenNeL oC eaNI DetteK. we NaDD tIe EoLt CKeJQentDy\n",
      "oNNQKKPnR DetteK tIe 'CPKLt', tIe neXt EoLt oNNQKKPnR DetteK tIe 'LeNonU' tIe CoDDowPnR EoLt oNNQKKPnR DetteK tIe\n",
      "'tIPKU', anU Lo on, QntPD we aNNoQnt CoK aDD tIe UPCCeKent DetteKL Pn tIe HDaPnteXt LaEHDe. tIen we DooB at tIe NPHIeK\n",
      "teXt we want to LoDVe anU we aDLo NDaLLPCy PtL LyEAoDL. we CPnU tIe EoLt oNNQKKPnR LyEAoD anU NIanRe Pt to tIe CoKE oC\n",
      "Ie 'CPKLt' DetteK oC tIe HDaPnteXt LaEHDe, tIe neXt EoLt NoEEon LyEAoD PL NIanReU to tIe CoKE oC tIe 'LeNonU' DetteK, anU\n",
      "tIe CoDDowPnR EoLt NoEEon LyEAoD PL NIanReU to tIe CoKE oC tIe 'tIPKU' DetteK, anU Lo on, QntPD we aNNoQnt CoK aDD LyEAoDL\n",
      "oC tIe NKyHtoRKaE we want to LoDVe.\n"
     ]
    }
   ],
   "source": [
    "final_text=final_text.replace('M','a')\n",
    "print(final_text)"
   ]
  },
  {
   "cell_type": "code",
   "execution_count": 105,
   "metadata": {},
   "outputs": [
    {
     "name": "stdout",
     "output_type": "stream",
     "text": [
      "one way to soDVe an enNKyHteU EessaRe, PC we Bnow Pts DanRQaRe, Ps to CPnU a UPCCeKent HDaPnteXt oC tIe saEe DanRQaRe\n",
      "DonR enoQRI to CPDD one sIeet oK so, anU tIen we NoQnt tIe oNNQKKenNes oC eaNI DetteK. we NaDD tIe Eost CKeJQentDy\n",
      "oNNQKKPnR DetteK tIe 'CPKst', tIe neXt Eost oNNQKKPnR DetteK tIe 'seNonU' tIe CoDDowPnR Eost oNNQKKPnR DetteK tIe\n",
      "'tIPKU', anU so on, QntPD we aNNoQnt CoK aDD tIe UPCCeKent DetteKs Pn tIe HDaPnteXt saEHDe. tIen we DooB at tIe NPHIeK\n",
      "teXt we want to soDVe anU we aDso NDassPCy Pts syEAoDs. we CPnU tIe Eost oNNQKKPnR syEAoD anU NIanRe Pt to tIe CoKE oC\n",
      "Ie 'CPKst' DetteK oC tIe HDaPnteXt saEHDe, tIe neXt Eost NoEEon syEAoD Ps NIanReU to tIe CoKE oC tIe 'seNonU' DetteK, anU\n",
      "tIe CoDDowPnR Eost NoEEon syEAoD Ps NIanReU to tIe CoKE oC tIe 'tIPKU' DetteK, anU so on, QntPD we aNNoQnt CoK aDD syEAoDs\n",
      "oC tIe NKyHtoRKaE we want to soDVe.\n"
     ]
    }
   ],
   "source": [
    "final_text=final_text.replace('L','s')\n",
    "print(final_text)"
   ]
  },
  {
   "cell_type": "code",
   "execution_count": 106,
   "metadata": {},
   "outputs": [
    {
     "name": "stdout",
     "output_type": "stream",
     "text": [
      "one way to soDve an enNKyHteU EessaRe, PC we Bnow Pts DanRQaRe, Ps to CPnU a UPCCeKent HDaPnteXt oC tIe saEe DanRQaRe\n",
      "DonR enoQRI to CPDD one sIeet oK so, anU tIen we NoQnt tIe oNNQKKenNes oC eaNI DetteK. we NaDD tIe Eost CKeJQentDy\n",
      "oNNQKKPnR DetteK tIe 'CPKst', tIe neXt Eost oNNQKKPnR DetteK tIe 'seNonU' tIe CoDDowPnR Eost oNNQKKPnR DetteK tIe\n",
      "'tIPKU', anU so on, QntPD we aNNoQnt CoK aDD tIe UPCCeKent DetteKs Pn tIe HDaPnteXt saEHDe. tIen we DooB at tIe NPHIeK\n",
      "teXt we want to soDve anU we aDso NDassPCy Pts syEAoDs. we CPnU tIe Eost oNNQKKPnR syEAoD anU NIanRe Pt to tIe CoKE oC\n",
      "Ie 'CPKst' DetteK oC tIe HDaPnteXt saEHDe, tIe neXt Eost NoEEon syEAoD Ps NIanReU to tIe CoKE oC tIe 'seNonU' DetteK, anU\n",
      "tIe CoDDowPnR Eost NoEEon syEAoD Ps NIanReU to tIe CoKE oC tIe 'tIPKU' DetteK, anU so on, QntPD we aNNoQnt CoK aDD syEAoDs\n",
      "oC tIe NKyHtoRKaE we want to soDve.\n"
     ]
    }
   ],
   "source": [
    "final_text=final_text.replace('V','v')\n",
    "print(final_text)"
   ]
  },
  {
   "cell_type": "code",
   "execution_count": 121,
   "metadata": {},
   "outputs": [
    {
     "name": "stdout",
     "output_type": "stream",
     "text": [
      "one way to solve an encrypted message, if we know its language, is to find a different plaintext of the same language\n",
      "long enough to fill one sheet or so, and then we count the occurrences of each letter. we call the most frequently\n",
      "occurring letter the 'first', the next most occurring letter the 'second' the following most occurring letter the\n",
      "'third', and so on, until we account for all the different letters in the plaintext sample. then we look at the cipher\n",
      "text we want to solve and we also classify its symbols. we find the most occurring symbol and change it to the form of\n",
      "he 'first' letter of the plaintext sample, the next most common symbol is changed to the form of the 'second' letter, and\n",
      "the following most common symbol is changed to the form of the 'third' letter, and so on, until we account for all symbols\n",
      "of the cryptogram we want to solve.\n"
     ]
    }
   ],
   "source": [
    "final_text=final_text.replace('A','b')\n",
    "print(final_text)"
   ]
  },
  {
   "cell_type": "code",
   "execution_count": null,
   "metadata": {},
   "outputs": [],
   "source": []
  }
 ],
 "metadata": {
  "kernelspec": {
   "display_name": "Python 3",
   "language": "python",
   "name": "python3"
  },
  "language_info": {
   "codemirror_mode": {
    "name": "ipython",
    "version": 3
   },
   "file_extension": ".py",
   "mimetype": "text/x-python",
   "name": "python",
   "nbconvert_exporter": "python",
   "pygments_lexer": "ipython3",
   "version": "3.6.7"
  }
 },
 "nbformat": 4,
 "nbformat_minor": 2
}
